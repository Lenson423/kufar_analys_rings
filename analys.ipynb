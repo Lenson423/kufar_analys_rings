{
 "cells": [
  {
   "cell_type": "code",
   "execution_count": 69,
   "metadata": {
    "collapsed": true,
    "ExecuteTime": {
     "end_time": "2023-08-06T12:38:53.319747900Z",
     "start_time": "2023-08-06T12:38:53.288951200Z"
    }
   },
   "outputs": [],
   "source": [
    "import requests\n",
    "from bs4 import BeautifulSoup as bs"
   ]
  },
  {
   "cell_type": "code",
   "execution_count": 70,
   "outputs": [],
   "source": [
    "r = requests.get(\"https://www.kufar.by/l?ot=1&query=кольцо&rgn=all\")"
   ],
   "metadata": {
    "collapsed": false,
    "ExecuteTime": {
     "end_time": "2023-08-06T12:38:54.920583800Z",
     "start_time": "2023-08-06T12:38:54.108684500Z"
    }
   }
  },
  {
   "cell_type": "code",
   "execution_count": 71,
   "outputs": [],
   "source": [
    "info = bs(r.text, \"html.parser\")"
   ],
   "metadata": {
    "collapsed": false,
    "ExecuteTime": {
     "end_time": "2023-08-06T12:38:55.785324800Z",
     "start_time": "2023-08-06T12:38:55.676133300Z"
    }
   }
  },
  {
   "cell_type": "code",
   "execution_count": 75,
   "outputs": [],
   "source": [
    "ring_names = info.find_all('a', class_='styles_wrapper__5FoK7')"
   ],
   "metadata": {
    "collapsed": false,
    "ExecuteTime": {
     "end_time": "2023-08-06T12:39:20.186262100Z",
     "start_time": "2023-08-06T12:39:20.180647500Z"
    }
   }
  },
  {
   "cell_type": "code",
   "execution_count": 76,
   "outputs": [],
   "source": [
    "all_requests = []\n",
    "for elem in ring_names:\n",
    "    h = requests.get(elem[\"href\"])\n",
    "    all_requests.append(h)"
   ],
   "metadata": {
    "collapsed": false,
    "ExecuteTime": {
     "end_time": "2023-08-06T12:40:01.526896800Z",
     "start_time": "2023-08-06T12:39:20.729097Z"
    }
   }
  },
  {
   "cell_type": "code",
   "execution_count": 77,
   "outputs": [],
   "source": [
    "request_html = [bs(elem.text, \"html.parser\") for elem in all_requests]"
   ],
   "metadata": {
    "collapsed": false,
    "ExecuteTime": {
     "end_time": "2023-08-06T12:40:08.647831500Z",
     "start_time": "2023-08-06T12:40:05.140322800Z"
    }
   }
  },
  {
   "cell_type": "code",
   "execution_count": 78,
   "outputs": [],
   "source": [
    "all_descriptions = [elem.find_all('div', itemprop = \"description\") for elem in request_html]"
   ],
   "metadata": {
    "collapsed": false,
    "ExecuteTime": {
     "end_time": "2023-08-06T12:40:10.062105500Z",
     "start_time": "2023-08-06T12:40:09.861510900Z"
    }
   }
  },
  {
   "cell_type": "code",
   "execution_count": 79,
   "outputs": [
    {
     "name": "stdout",
     "output_type": "stream",
     "text": [
      "[5, 6, 7, 16, 20, 25, 28, 31, 32, 33, 35, 40, 44, 47, 48]\n"
     ]
    }
   ],
   "source": [
    "good_indexes = []\n",
    "for num, elem in enumerate(all_descriptions):\n",
    "    if (\"золот\" in elem[0].text or \"Золот\" in elem[0].text) and \"озолот\" not in elem[0].text:\n",
    "        good_indexes.append(num)\n",
    "print(good_indexes)"
   ],
   "metadata": {
    "collapsed": false,
    "ExecuteTime": {
     "end_time": "2023-08-06T12:40:12.287554800Z",
     "start_time": "2023-08-06T12:40:12.208755500Z"
    }
   }
  },
  {
   "cell_type": "code",
   "execution_count": 80,
   "outputs": [],
   "source": [
    "with open(\"test.txt\", \"w\") as file:\n",
    "    for index in good_indexes:\n",
    "        file.write(ring_names[index][\"href\"] + '\\n')"
   ],
   "metadata": {
    "collapsed": false,
    "ExecuteTime": {
     "end_time": "2023-08-06T12:40:13.243125700Z",
     "start_time": "2023-08-06T12:40:13.227499800Z"
    }
   }
  },
  {
   "cell_type": "code",
   "execution_count": null,
   "outputs": [],
   "source": [],
   "metadata": {
    "collapsed": false
   }
  }
 ],
 "metadata": {
  "kernelspec": {
   "display_name": "Python 3",
   "language": "python",
   "name": "python3"
  },
  "language_info": {
   "codemirror_mode": {
    "name": "ipython",
    "version": 2
   },
   "file_extension": ".py",
   "mimetype": "text/x-python",
   "name": "python",
   "nbconvert_exporter": "python",
   "pygments_lexer": "ipython2",
   "version": "2.7.6"
  }
 },
 "nbformat": 4,
 "nbformat_minor": 0
}
