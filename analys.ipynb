{
 "cells": [
  {
   "cell_type": "code",
   "execution_count": 89,
   "metadata": {
    "collapsed": true,
    "ExecuteTime": {
     "end_time": "2023-08-08T08:02:13.099532600Z",
     "start_time": "2023-08-08T08:02:13.066649500Z"
    }
   },
   "outputs": [],
   "source": [
    "import requests\n",
    "from bs4 import BeautifulSoup as bs"
   ]
  },
  {
   "cell_type": "code",
   "execution_count": 189,
   "outputs": [],
   "source": [
    "r = requests.get(\"https://www.kufar.by/l?ot=1&query=кольцо&rgn=all&sort=lst.d&utm_queryOrigin=Manually_typed\")"
   ],
   "metadata": {
    "collapsed": false,
    "ExecuteTime": {
     "end_time": "2023-08-08T08:53:21.710720800Z",
     "start_time": "2023-08-08T08:53:20.906739800Z"
    }
   }
  },
  {
   "cell_type": "code",
   "execution_count": 190,
   "outputs": [],
   "source": [
    "info = bs(r.text, \"html.parser\")"
   ],
   "metadata": {
    "collapsed": false,
    "ExecuteTime": {
     "end_time": "2023-08-08T08:53:24.720666700Z",
     "start_time": "2023-08-08T08:53:24.673292400Z"
    }
   }
  },
  {
   "cell_type": "code",
   "execution_count": 191,
   "outputs": [],
   "source": [
    "ring_names = info.find_all('a', class_='styles_wrapper__5FoK7')"
   ],
   "metadata": {
    "collapsed": false,
    "ExecuteTime": {
     "end_time": "2023-08-08T08:53:25.320297700Z",
     "start_time": "2023-08-08T08:53:25.308514200Z"
    }
   }
  },
  {
   "cell_type": "code",
   "execution_count": 192,
   "outputs": [],
   "source": [
    "import threading\n",
    "from concurrent.futures import ThreadPoolExecutor"
   ],
   "metadata": {
    "collapsed": false,
    "ExecuteTime": {
     "end_time": "2023-08-08T08:53:26.474268Z",
     "start_time": "2023-08-08T08:53:26.432219Z"
    }
   }
  },
  {
   "cell_type": "code",
   "execution_count": 193,
   "outputs": [],
   "source": [
    "def get_by(href, array):\n",
    "    array.append(requests.get((href)))"
   ],
   "metadata": {
    "collapsed": false,
    "ExecuteTime": {
     "end_time": "2023-08-08T08:53:28.035282100Z",
     "start_time": "2023-08-08T08:53:28.034776500Z"
    }
   }
  },
  {
   "cell_type": "code",
   "execution_count": 200,
   "outputs": [
    {
     "name": "stdout",
     "output_type": "stream",
     "text": [
      "54\n"
     ]
    }
   ],
   "source": [
    "all_requests = []\n",
    "with ThreadPoolExecutor(max_workers=4) as executor:\n",
    "        for elem in ring_names:\n",
    "            executor.submit(get_by, elem[\"href\"], all_requests)\n",
    "print(len(all_requests))"
   ],
   "metadata": {
    "collapsed": false,
    "ExecuteTime": {
     "end_time": "2023-08-08T08:56:18.358483900Z",
     "start_time": "2023-08-08T08:56:07.801887Z"
    }
   }
  },
  {
   "cell_type": "code",
   "execution_count": 201,
   "outputs": [],
   "source": [
    "request_html = [bs(elem.text, \"html.parser\") for elem in all_requests]"
   ],
   "metadata": {
    "collapsed": false,
    "ExecuteTime": {
     "end_time": "2023-08-08T08:56:23.482830500Z",
     "start_time": "2023-08-08T08:56:20.360842500Z"
    }
   }
  },
  {
   "cell_type": "code",
   "execution_count": 212,
   "outputs": [
    {
     "name": "stdout",
     "output_type": "stream",
     "text": [
      "['500 р.', '19.99 р.', 'Договорная', '35 р.', '290 р.', '450 р.', '15 р.', '12 р.', '19 р.', '19.99 р.', '29.99 р.', '130 р.', '1 100 р.', '57 р.', 'Договорная', '30 р.', '20 р.', '600 р.', '30.54 р.', '600 р.', '30 р.', '20 р.', '45 р.', '800 р.', '20 р.', '2 р.', '45 р.', '15 р.', '320 р.', '20 р.', 'Договорная', '199 р.', '33 р.', '20 р.', '30 р.', '100 р.', '18 р.', '70 р.', 'Договорная', '25 р.', '23.50 р.', '45 р.', '20 р.', '300 р.', '12 р.', '350 р.', '19 р.', '10 р.', '19.99 р.', '29.99 р.', '30.54 р.', '57 р.', '33 р.', '68 р.']\n"
     ]
    }
   ],
   "source": [
    "all_descriptions = [elem.find_all('div', itemprop = \"description\") for elem in request_html]\n",
    "all_prices = [elem.find_all(['span','div'], class_ = [\"styles_discountPrice__WuQiu\", \"styles_price--main__KHbAp\"])[0].text for elem in request_html]\n",
    "print(all_prices)"
   ],
   "metadata": {
    "collapsed": false,
    "ExecuteTime": {
     "end_time": "2023-08-08T09:07:00.100057100Z",
     "start_time": "2023-08-08T09:06:59.002482400Z"
    }
   }
  },
  {
   "cell_type": "code",
   "execution_count": 213,
   "outputs": [],
   "source": [
    "def check_if_in_or_not_in_string(words: list[str], line: str, in_or_not:bool) -> bool:\n",
    "    if in_or_not:\n",
    "        for word in words:\n",
    "            if word not in line:\n",
    "                return False\n",
    "        return True\n",
    "    else:\n",
    "        for word in words:\n",
    "            if word in line:\n",
    "                return False\n",
    "        return True"
   ],
   "metadata": {
    "collapsed": false,
    "ExecuteTime": {
     "end_time": "2023-08-08T09:07:02.862282300Z",
     "start_time": "2023-08-08T09:07:02.850803500Z"
    }
   }
  },
  {
   "cell_type": "code",
   "execution_count": 214,
   "outputs": [],
   "source": [
    "def find_size(s: str, index: int) -> str:\n",
    "    tmp = s[index + 7: index + 11]\n",
    "    k = \"\".join([elem for elem in tmp if elem.isnumeric()])\n",
    "    if k != \"\":\n",
    "        return k\n",
    "    else:\n",
    "        tmp = s[index - 4: index]\n",
    "        return \"\".join([elem for elem in tmp if elem.isnumeric()])"
   ],
   "metadata": {
    "collapsed": false,
    "ExecuteTime": {
     "end_time": "2023-08-08T09:07:04.294817Z",
     "start_time": "2023-08-08T09:07:04.273819600Z"
    }
   }
  },
  {
   "cell_type": "code",
   "execution_count": 216,
   "outputs": [
    {
     "name": "stdout",
     "output_type": "stream",
     "text": [
      "[0, 4, 8, 12, 19, 23, 24, 34, 43, 46]\n",
      "{4: '175', 12: '175', 19: '175', 23: '', 24: '19', 43: '15'}\n"
     ]
    }
   ],
   "source": [
    "good_indexes = []\n",
    "size = {}\n",
    "in_words, not_in_words = [\"золот\"], [\"позоло\", \"сереб\", \"бронз\"]\n",
    "for num, elem in enumerate(all_descriptions):\n",
    "    my_text = elem[0].text.lower()\n",
    "    if check_if_in_or_not_in_string(in_words, my_text, True) and check_if_in_or_not_in_string(not_in_words, my_text, False):\n",
    "        good_indexes.append(num)\n",
    "        if (k := my_text.find(\"размер\")) != -1:\n",
    "            size[num] = find_size(my_text, k)\n",
    "print(good_indexes)\n",
    "print(size)"
   ],
   "metadata": {
    "collapsed": false,
    "ExecuteTime": {
     "end_time": "2023-08-08T09:07:30.158602700Z",
     "start_time": "2023-08-08T09:07:30.137822100Z"
    }
   }
  },
  {
   "cell_type": "code",
   "execution_count": 217,
   "outputs": [],
   "source": [
    "with open(\"test.txt\", \"w\") as file:\n",
    "    for index in good_indexes:\n",
    "        if index in size:\n",
    "            file.write(all_prices[index] + \" \" +  size[index] + \" \" + ring_names[index][\"href\"] + '\\n')\n",
    "        else:\n",
    "            file.write(all_prices[index] + \" \" + ring_names[index][\"href\"] + '\\n')"
   ],
   "metadata": {
    "collapsed": false,
    "ExecuteTime": {
     "end_time": "2023-08-08T09:07:32.977011700Z",
     "start_time": "2023-08-08T09:07:32.950044Z"
    }
   }
  },
  {
   "cell_type": "code",
   "execution_count": 175,
   "outputs": [],
   "source": [],
   "metadata": {
    "collapsed": false,
    "ExecuteTime": {
     "end_time": "2023-08-08T08:46:59.982865100Z",
     "start_time": "2023-08-08T08:46:59.931008200Z"
    }
   }
  },
  {
   "cell_type": "code",
   "execution_count": null,
   "outputs": [],
   "source": [],
   "metadata": {
    "collapsed": false
   }
  }
 ],
 "metadata": {
  "kernelspec": {
   "display_name": "Python 3",
   "language": "python",
   "name": "python3"
  },
  "language_info": {
   "codemirror_mode": {
    "name": "ipython",
    "version": 2
   },
   "file_extension": ".py",
   "mimetype": "text/x-python",
   "name": "python",
   "nbconvert_exporter": "python",
   "pygments_lexer": "ipython2",
   "version": "2.7.6"
  }
 },
 "nbformat": 4,
 "nbformat_minor": 0
}
